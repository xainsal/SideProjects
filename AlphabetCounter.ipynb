{
 "cells": [
  {
   "cell_type": "markdown",
   "metadata": {},
   "source": [
    "# Alphabet Counter Ver 1.0\n",
    "by Zain Ahmed Saleem"
   ]
  },
  {
   "cell_type": "code",
   "execution_count": 3,
   "metadata": {},
   "outputs": [
    {
     "name": "stdout",
     "output_type": "stream",
     "text": [
      "Enter Any Words or Story: zain ahmed saleem\n",
      "Which Type of Output Do You Want. 'C'lean or 'A'll: C\n",
      "\n",
      "\n",
      "Total Alphabets: 17\n",
      "a : 3\n",
      "d : 1\n",
      "e : 3\n",
      "h : 1\n",
      "i : 1\n",
      "l : 1\n",
      "m : 2\n",
      "n : 1\n",
      "s : 1\n",
      "z : 1\n"
     ]
    }
   ],
   "source": [
    "alphabet = [\"a\",\"b\",\"c\",\"d\",\"e\",\"f\",\"g\",\"h\",\"i\",\"j\",\"k\",\"l\",\"m\",\"n\",\"o\",\"p\",\"q\",\"r\",\"s\",\"t\",\"u\",\"v\",\"w\",\"x\",\"y\",\"z\"]\n",
    "#numbers = [0,1,2,3,4,5,6,7,8,9]\n",
    "capital = []\n",
    "capy = 0\n",
    "z = len(alphabet)\n",
    "\n",
    "#To Make a Copy of \"alphabet\" list but in capital alphabets in \"capital\" List\n",
    "\n",
    "for x in range(0, z):   \n",
    "    capy = alphabet[x]\n",
    "    capy = capy.upper()\n",
    "    alphabet.append(capy)\n",
    "\n",
    "text = input(\"Enter Any Words or Story: \")\n",
    "typ = input(\"Which Type of Output Do You Want. 'C'lean or 'A'll: \").upper()\n",
    "\n",
    "\n",
    "#length of text in number\n",
    "length = len(text)\n",
    "print(\"\\n\\nTotal Alphabets: \" + str(length))\n",
    "stri = \"\"\n",
    "capy = 0\n",
    "bapy = 0\n",
    "gapy = 0\n",
    "\n",
    "if typ == \"C\":\n",
    "    for x in alphabet:\n",
    "        stri = alphabet[capy]\n",
    "        for y in range(0, length):\n",
    "            if text[y] == stri:\n",
    "                gapy += 1\n",
    "        if gapy > 0:\n",
    "            print(stri + \" : \" + str(gapy))\n",
    "        gapy = 0\n",
    "        capy += 1\n",
    "elif typ == \"A\":\n",
    "    for x in alphabet:\n",
    "        stri = alphabet[capy]\n",
    "        for y in range(0, length):\n",
    "            if text[y] == stri:\n",
    "                gapy += 1\n",
    "        print(stri + \" : \" + str(gapy))\n",
    "        gapy = 0\n",
    "        capy += 1"
   ]
  },
  {
   "cell_type": "markdown",
   "metadata": {},
   "source": [
    "# https://github.com/xainsal/SideProjects.git"
   ]
  }
 ],
 "metadata": {
  "kernelspec": {
   "display_name": "Python 3",
   "language": "python",
   "name": "python3"
  },
  "language_info": {
   "codemirror_mode": {
    "name": "ipython",
    "version": 3
   },
   "file_extension": ".py",
   "mimetype": "text/x-python",
   "name": "python",
   "nbconvert_exporter": "python",
   "pygments_lexer": "ipython3",
   "version": "3.7.3"
  }
 },
 "nbformat": 4,
 "nbformat_minor": 2
}
