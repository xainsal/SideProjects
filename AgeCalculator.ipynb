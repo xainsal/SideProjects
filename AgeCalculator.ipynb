{
 "cells": [
  {
   "cell_type": "markdown",
   "metadata": {},
   "source": [
    "# Age Calculator ver 1.0\n",
    "by Zain Ahmed Saleem"
   ]
  },
  {
   "cell_type": "code",
   "execution_count": 5,
   "metadata": {},
   "outputs": [
    {
     "name": "stdout",
     "output_type": "stream",
     "text": [
      "-------------------------------------------\n",
      "Today's Date is: 17 - 6 - 2019\n",
      "-------------------------------------------\n",
      "Enter Day Of Your Date Of Birth: 13\n",
      "Enter Month Of Your Date Of Birth: 09\n",
      "Enter Year Of Your Date Of Birth: 1992\n",
      "                                           \n",
      "===========================================\n",
      "You Are 26 Years, 9 Month and 4 Days Old\n",
      "===========================================\n"
     ]
    }
   ],
   "source": [
    "from datetime import date\n",
    "\n",
    "TODAY = date.today()\n",
    "DATE_NOW = TODAY.day\n",
    "MONTH_NOW = TODAY.month\n",
    "YEAR_NOW = TODAY.year\n",
    "TOTAL_M = 12\n",
    "AGE_IMN = 0\n",
    "DOB_D = 0\n",
    "DOB_M = 0\n",
    "DOB_Y = 0\n",
    "\n",
    "DATE = (str(DATE_NOW) + \" - \" + str(MONTH_NOW) + \" - \" + str(YEAR_NOW))\n",
    "print (\"-------------------------------------------\")\n",
    "print (\"Today's Date is: \" + DATE)\n",
    "print (\"-------------------------------------------\")\n",
    "\n",
    "DOB_S = \"Date Of Birth: \"\n",
    "DOB_S0 = \"Of Your \" + DOB_S\n",
    "\n",
    "\n",
    "\n",
    "#Date of Birth Input Start\n",
    "DMY = 0\n",
    "while DMY == 0:\n",
    "    DOB_D = int(input(\"Enter Day \" + DOB_S0))\n",
    "    if DOB_D > 31 or DOB_D < 1:\n",
    "        print(\"Please Enter a Number Between 1 to 31\")\n",
    "    else:\n",
    "        DMY = 1\n",
    "        \n",
    "DMY = 0\n",
    "while DMY == 0:\n",
    "    DOB_M = int(input(\"Enter Month \" + DOB_S0))\n",
    "    if DOB_M > 12 or DOB_M < 1:\n",
    "        print(\"Please Enter a Number Between 1 to 12\")\n",
    "    else:\n",
    "        DMY = 1\n",
    "        \n",
    "DMY = 0\n",
    "while DMY == 0:\n",
    "    DOB_Y = int(input(\"Enter Year \" + DOB_S0))\n",
    "    if DOB_Y >= YEAR_NOW or DOB_Y < 1900:\n",
    "        print (\"Please Enter a Valid Value\")\n",
    "    else:\n",
    "        DMY = 1\n",
    "#Date Of Birth Input End  \n",
    "\n",
    "AGE_D = DATE_NOW - DOB_D\n",
    "AGE_M = MONTH_NOW - DOB_M\n",
    "AGE_Y = YEAR_NOW - DOB_Y\n",
    "\n",
    "if AGE_M < 0:\n",
    "    while AGE_M < 0:\n",
    "        AGE_M += 1\n",
    "        AGE_IMN += 1    \n",
    "    AGE_M = TOTAL_M - AGE_IMN\n",
    "    AGE_Y -= 1 \n",
    "\n",
    "    print (\"                                           \")\n",
    "    print (\"===========================================\")\n",
    "    print (\"You Are \" + str(AGE_Y) + \" Years, \" + str(AGE_M) + \" Month and \" + str(AGE_D) + \" Days Old\" )\n",
    "    print (\"===========================================\")"
   ]
  },
  {
   "cell_type": "markdown",
   "metadata": {},
   "source": [
    "# https://github.com/xainsal/SideProjects.git"
   ]
  },
  {
   "cell_type": "code",
   "execution_count": null,
   "metadata": {},
   "outputs": [],
   "source": []
  }
 ],
 "metadata": {
  "kernelspec": {
   "display_name": "Python 3",
   "language": "python",
   "name": "python3"
  },
  "language_info": {
   "codemirror_mode": {
    "name": "ipython",
    "version": 3
   },
   "file_extension": ".py",
   "mimetype": "text/x-python",
   "name": "python",
   "nbconvert_exporter": "python",
   "pygments_lexer": "ipython3",
   "version": "3.7.3"
  }
 },
 "nbformat": 4,
 "nbformat_minor": 2
}
