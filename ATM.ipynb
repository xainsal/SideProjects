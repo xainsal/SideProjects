{
 "cells": [
  {
   "cell_type": "markdown",
   "metadata": {},
   "source": [
    "# ATM Machine Rev 1\n",
    "by Zain Ahmed Saleem"
   ]
  },
  {
   "cell_type": "code",
   "execution_count": 2,
   "metadata": {},
   "outputs": [
    {
     "name": "stdout",
     "output_type": "stream",
     "text": [
      "Enter Your Name: zain\n",
      "Default Pin is '1234'\n",
      "Enter Your PIN: 1234\n",
      "\n",
      "\n",
      "\n",
      "#########################################################################\n",
      "# Welcome Mr. Zain\t\t\t\t\t\t\t#\n",
      "# What Do you Want to Do Mr. Zain\t\t\t\t\t#\n",
      "# \t'D'\tDeposit\t\t\t\t'W'\tWithdraw\t#\n",
      "# \t'C'\tCheck Balance\t\t\t'P'\tPin Change\t#\n",
      "# \t'E'\tExit\t\t\t\t\t\t\t#\n",
      "#########################################################################\n",
      "Enter The Corresponding Alphabet: E\n",
      "Are You Sure You Want To Exit. Press 'Y' for Yes & 'N' for NO : y\n",
      "\n",
      "\t\t\t\tBye Bye\n"
     ]
    }
   ],
   "source": [
    "#Created Variables for later Use\n",
    "name = \" \"\n",
    "pin = 0\n",
    "money = 0\n",
    "choice = \" \"\n",
    "run = 1\n",
    "text1 =\"Enter the Amount You Want To \"\n",
    "spin = 1234\n",
    "bord = \"#########################################################################\"\n",
    "\n",
    "#Input From User\n",
    "name = input(\"Enter Your Name: \")\n",
    "print(\"Default Pin is '1234'\")\n",
    "PIN = int(input(\"Enter Your PIN: \"))\n",
    "\n",
    "#while loop for program to run unlimited number of times unless exit key is entered \n",
    "while run == 1:\n",
    "    #Pin Checking for Verification using IF function\n",
    "    if PIN != spin:\n",
    "        PIN = int(input(\"\\tIncorrect PIN or PIN Has Been Changed, Please Enter Pin Again: \"))\n",
    "    elif PIN == spin:\n",
    "        #For outputing Information on screen\n",
    "        print(\"\\n\\n\")\n",
    "        print(bord)\n",
    "        print(\"# Welcome Mr. \" + name.title() + \"\\t\\t\\t\\t\\t\\t\\t#\")\n",
    "        print(\"# What Do you Want to Do Mr. \" + name.title() + \"\\t\\t\\t\\t\\t#\")\n",
    "        print(\"# \\t'D'\\tDeposit\\t\\t\\t\\t'W'\\tWithdraw\\t#\")\n",
    "        print(\"# \\t'C'\\tCheck Balance\\t\\t\\t'P'\\tPin Change\\t#\")\n",
    "        print(\"# \\t'E'\\tExit\\t\\t\\t\\t\\t\\t\\t#\")\n",
    "        print(bord)\n",
    "        #choice is used as input from user\n",
    "        choice = input(\"Enter The Corresponding Alphabet: \").upper()\n",
    "        if choice == \"D\":\n",
    "            #The amount will be stored into cash variable then it will be added in money variable \n",
    "            cash = int(input(text1 + \"Deposit: \"))\n",
    "            money = money + cash\n",
    "        elif choice == \"W\":\n",
    "            #For checking amount in money variable if there is no amount insufficent funds will be printed\n",
    "            if money < 1:\n",
    "                print(\"Insufficent funds Account Balance: \" + str(money))\n",
    "            else:\n",
    "                #The amount will be stored in witd and then subbtracted from money variable in else condition\n",
    "                witd = int(input(text1 + \"Withdraw: \"))\n",
    "                #This will check if there is enough amount in money variable if not it will give error\n",
    "                if witd > money:\n",
    "                    print(\"The Amount Is Greater Than Your Account Balance\")\n",
    "                else:\n",
    "                    money -= witd\n",
    "        elif choice == \"C\":\n",
    "            #For Checking Balance Stored in Money Variable\n",
    "            print(\"Your Balance: \" + str(money))\n",
    "        elif choice == \"P\":\n",
    "            #For Changing PIN. Old PIN Will Be Asked for Conformation\n",
    "            CHKPIN = int(input(\"To Change PIN, Please Enter Your Old PIN: \"))\n",
    "            #if Entered PIN Is Incorrect error Will Print \n",
    "            if CHKPIN != spin:\n",
    "                print(\"Incorrect PIN\")\n",
    "            #if PIN Is Correct. New PIN Option Will Be Given\n",
    "            elif CHKPIN == spin:\n",
    "                #New PIN Will Be Stored in 'npin' and the 'npin' will be stored in \"spin\"\n",
    "                npin = int(input(\"Enter New PIN: \"))\n",
    "                spin = npin\n",
    "                print(\"\\tYour New PIN Is: \" + str(spin))\n",
    "        #For Exiting The While Loop\n",
    "        elif choice == \"E\":\n",
    "            CHOICE = input(\"Are You Sure You Want To Exit. Press 'Y' for Yes & 'N' for NO : \").upper()\n",
    "            if CHOICE == \"N\":\n",
    "                print(\"Your Wish Is My Command\")\n",
    "            #If \"Y\" is Pressed 'run' value will be changed to 0 and Program Will Exit\n",
    "            elif CHOICE == \"Y\":\n",
    "                print(\"\\n\\t\\t\\t\\tBye Bye\")\n",
    "                run = 0\n",
    "        #If any Other Character Than \"D,W,C,P or E\" Will Be Entered Than This Will Run\n",
    "        else:\n",
    "            print(\"Please enter a Correct Alphabet\")\n",
    "    #If Wrong PIN Entered This Will Run\n",
    "    else:\n",
    "        print(\"wrong PIN\")"
   ]
  },
  {
   "cell_type": "markdown",
   "metadata": {},
   "source": [
    "# https://github.com/xainsal/SideProjects.git"
   ]
  }
 ],
 "metadata": {
  "kernelspec": {
   "display_name": "Python 3",
   "language": "python",
   "name": "python3"
  },
  "language_info": {
   "codemirror_mode": {
    "name": "ipython",
    "version": 3
   },
   "file_extension": ".py",
   "mimetype": "text/x-python",
   "name": "python",
   "nbconvert_exporter": "python",
   "pygments_lexer": "ipython3",
   "version": "3.7.3"
  }
 },
 "nbformat": 4,
 "nbformat_minor": 2
}
